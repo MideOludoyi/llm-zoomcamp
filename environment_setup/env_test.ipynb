{
 "cells": [
  {
   "cell_type": "code",
   "execution_count": 1,
   "id": "b6d04360-93a0-41be-9f56-365147b91180",
   "metadata": {},
   "outputs": [],
   "source": [
    "import openai\n",
    "from openai import OpenAI\n",
    "import os"
   ]
  },
  {
   "cell_type": "code",
   "execution_count": 3,
   "id": "252301fd-6414-49ab-a2dd-2e3f444d83e8",
   "metadata": {},
   "outputs": [],
   "source": [
    "client = OpenAI()"
   ]
  },
  {
   "cell_type": "code",
   "execution_count": 4,
   "id": "d10f4aa7-4df6-4d0b-9828-b807af8f2b4a",
   "metadata": {},
   "outputs": [],
   "source": [
    "response = client.chat.completions.create(\n",
    "    model='gpt-4o',\n",
    "    messages=[{\"role\": \"user\", \"content\": \"Is it too late to join the course?\"}]\n",
    ")"
   ]
  },
  {
   "cell_type": "code",
   "execution_count": 7,
   "id": "c54b754d-8d01-43d7-baab-ad91a39e0288",
   "metadata": {},
   "outputs": [
    {
     "data": {
      "text/plain": [
       "'It really depends on the specific course and its policies. Here are some steps you can take:\\n\\n1. **Check the Course Schedule:** Look at the course details to see if it mentions a deadline for enrollment. Some courses have specific timelines and may not allow late enrollment.\\n\\n2. **Contact the Instructor or Administration:** Reach out to the course instructor or the administration office of the institution offering the course. Explain your situation and ask if you can still join. Sometimes exceptions can be made.\\n\\n3. **Online Courses:** If it’s an online course, especially those that are self-paced, you might have more flexibility and could still join after the official start date.\\n\\n4. **Catch Up:** If you are allowed to join late, be prepared to catch up on any missed material. Instructors may provide resources or guidance to help you get up to speed.\\n\\n5. **Look for Future Sessions:** If it’s too late for the current session, ask if there will be another session of the course and when it will be offered. This way, you can plan to enroll on time next time.\\n\\nBy taking these steps, you can find out whether it’s too late and what your options are.'"
      ]
     },
     "execution_count": 7,
     "metadata": {},
     "output_type": "execute_result"
    }
   ],
   "source": [
    "response.choices[0].message.content"
   ]
  },
  {
   "cell_type": "code",
   "execution_count": null,
   "id": "7bc16248-53bf-4120-9b40-537308ae0b26",
   "metadata": {},
   "outputs": [],
   "source": []
  }
 ],
 "metadata": {
  "kernelspec": {
   "display_name": "Python 3 (ipykernel)",
   "language": "python",
   "name": "python3"
  },
  "language_info": {
   "codemirror_mode": {
    "name": "ipython",
    "version": 3
   },
   "file_extension": ".py",
   "mimetype": "text/x-python",
   "name": "python",
   "nbconvert_exporter": "python",
   "pygments_lexer": "ipython3",
   "version": "3.10.13"
  }
 },
 "nbformat": 4,
 "nbformat_minor": 5
}
